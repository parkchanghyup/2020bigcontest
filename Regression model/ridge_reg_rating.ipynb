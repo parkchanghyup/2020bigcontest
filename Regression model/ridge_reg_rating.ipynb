{
 "cells": [
  {
   "cell_type": "markdown",
   "metadata": {},
   "source": [
    "# 시청률 예측 회귀 모델 개발 \n",
    "---"
   ]
  },
  {
   "cell_type": "markdown",
   "metadata": {},
   "source": [
    "### 필요한 컬럼만 추출\n",
    "---"
   ]
  },
  {
   "cell_type": "code",
   "execution_count": 3,
   "metadata": {
    "ExecuteTime": {
     "end_time": "2020-09-01T06:09:07.934779Z",
     "start_time": "2020-09-01T06:09:07.901874Z"
    }
   },
   "outputs": [],
   "source": [
    "실적 =실적[실적['상품군']!='무형']\n",
    "실적.reset_index(drop=True,inplace=True)\n",
    "실적_전처리 = 실적[['노출(분)','상품군','판매단가범위','몇시','무슨요일','시청률평균']]"
   ]
  },
  {
   "cell_type": "code",
   "execution_count": 4,
   "metadata": {
    "ExecuteTime": {
     "end_time": "2020-09-01T06:09:11.523986Z",
     "start_time": "2020-09-01T06:09:09.195643Z"
    }
   },
   "outputs": [
    {
     "data": {
      "text/plain": [
       "<matplotlib.axes._subplots.AxesSubplot at 0x20cd4b68588>"
      ]
     },
     "execution_count": 4,
     "metadata": {},
     "output_type": "execute_result"
    },
    {
     "data": {
      "image/png": "[encoded data removed]",
      "text/plain": [
       "<Figure size 432x288 with 1 Axes>"
      ]
     },
     "metadata": {
      "needs_background": "light"
     },
     "output_type": "display_data"
    }
   ],
   "source": [
    "import warnings\n",
    "warnings.filterwarnings('ignore')\n",
    "import seaborn as sns\n",
    "import matplotlib.pyplot as plt\n",
    "%matplotlib inline\n",
    "plt.rc('font',family = 'malgun gothic')\n",
    "\n",
    "sns.distplot(실적_전처리['시청률평균'])"
   ]
  },
  {
   "cell_type": "markdown",
   "metadata": {},
   "source": [
    "### 데이터 정규화\n",
    "---"
   ]
  },
  {
   "cell_type": "code",
   "execution_count": 15,
   "metadata": {
    "ExecuteTime": {
     "end_time": "2020-09-01T06:15:44.955882Z",
     "start_time": "2020-09-01T06:15:44.888192Z"
    }
   },
   "outputs": [],
   "source": [
    "\n",
    "\n",
    "from sklearn.preprocessing import StandardScaler\n",
    "x_data =실적_전처리[['시청률평균']]\n",
    "min_max_scaler = MinMaxScaler()\n",
    "fitted = min_max_scaler.fit(x_data)\n",
    "실적_전처리['시청률평균']=min_max_scaler.transform(x_data)\n"
   ]
  },
  {
   "cell_type": "markdown",
   "metadata": {},
   "source": [
    "### 원핫인코딩\n",
    "---"
   ]
  },
  {
   "cell_type": "code",
   "execution_count": 16,
   "metadata": {
    "ExecuteTime": {
     "end_time": "2020-09-01T06:15:47.109812Z",
     "start_time": "2020-09-01T06:15:47.001803Z"
    }
   },
   "outputs": [
    {
     "name": "stdout",
     "output_type": "stream",
     "text": [
      "<class 'pandas.core.frame.DataFrame'>\n",
      "RangeIndex: 37372 entries, 0 to 37371\n",
      "Data columns (total 47 columns):\n",
      "노출(분)             37372 non-null float64\n",
      "시청률평균             37372 non-null float64\n",
      "상품군_가구            37372 non-null uint8\n",
      "상품군_가전            37372 non-null uint8\n",
      "상품군_건강기능          37372 non-null uint8\n",
      "상품군_농수축           37372 non-null uint8\n",
      "상품군_생활용품          37372 non-null uint8\n",
      "상품군_속옷            37372 non-null uint8\n",
      "상품군_의류            37372 non-null uint8\n",
      "상품군_이미용           37372 non-null uint8\n",
      "상품군_잡화            37372 non-null uint8\n",
      "상품군_주방            37372 non-null uint8\n",
      "상품군_침구            37372 non-null uint8\n",
      "판매단가범위_100만원이상    37372 non-null uint8\n",
      "판매단가범위_100만원이하    37372 non-null uint8\n",
      "판매단가범위_10만원이하     37372 non-null uint8\n",
      "판매단가범위_30만원이하     37372 non-null uint8\n",
      "판매단가범위_50만원이하     37372 non-null uint8\n",
      "판매단가범위_5만원이하      37372 non-null uint8\n",
      "몇시_00             37372 non-null uint8\n",
      "몇시_01             37372 non-null uint8\n",
      "몇시_02             37372 non-null uint8\n",
      "몇시_06             37372 non-null uint8\n",
      "몇시_07             37372 non-null uint8\n",
      "몇시_08             37372 non-null uint8\n",
      "몇시_09             37372 non-null uint8\n",
      "몇시_10             37372 non-null uint8\n",
      "몇시_11             37372 non-null uint8\n",
      "몇시_12             37372 non-null uint8\n",
      "몇시_13             37372 non-null uint8\n",
      "몇시_14             37372 non-null uint8\n",
      "몇시_15             37372 non-null uint8\n",
      "몇시_16             37372 non-null uint8\n",
      "몇시_17             37372 non-null uint8\n",
      "몇시_18             37372 non-null uint8\n",
      "몇시_19             37372 non-null uint8\n",
      "몇시_20             37372 non-null uint8\n",
      "몇시_21             37372 non-null uint8\n",
      "몇시_22             37372 non-null uint8\n",
      "몇시_23             37372 non-null uint8\n",
      "무슨요일_Friday       37372 non-null uint8\n",
      "무슨요일_Monday       37372 non-null uint8\n",
      "무슨요일_Saturday     37372 non-null uint8\n",
      "무슨요일_Sunday       37372 non-null uint8\n",
      "무슨요일_Thursday     37372 non-null uint8\n",
      "무슨요일_Tuesday      37372 non-null uint8\n",
      "무슨요일_Wednesday    37372 non-null uint8\n",
      "dtypes: float64(2), uint8(45)\n",
      "memory usage: 2.2 MB\n"
     ]
    }
   ],
   "source": [
    "\n",
    "실적_전처리_원핫 = pd.get_dummies(실적_전처리)\n",
    "실적_전처리_원핫.info()"
   ]
  },
  {
   "cell_type": "markdown",
   "metadata": {},
   "source": [
    "### rmse 를 리턴하는 함수 생성\n",
    "---"
   ]
  },
  {
   "cell_type": "code",
   "execution_count": 19,
   "metadata": {
    "ExecuteTime": {
     "end_time": "2020-09-01T06:16:06.951285Z",
     "start_time": "2020-09-01T06:16:06.941298Z"
    }
   },
   "outputs": [],
   "source": [
    "import numpy as np\n",
    "# 회귀 모델 rmse 리던 \n",
    "def get_rmse(model):\n",
    "    pred = model.predict(X_test)\n",
    "    mse = mean_squared_error(y_test , pred)\n",
    "    rmse = np.sqrt(mse)\n",
    "    print('{0} 로그 변환된 RMSE: {1}'.format(model.__class__.__name__,np.round(rmse, 3)))\n",
    "    return rmse\n",
    "\n",
    "def get_rmses(models):\n",
    "    rmses = [ ]\n",
    "    for model in models:\n",
    "        rmse = get_rmse(model)\n",
    "        rmses.append(rmse)\n",
    "    return rmses"
   ]
  },
  {
   "cell_type": "markdown",
   "metadata": {},
   "source": [
    "### sklearn을 이용하여 회귀 모델 생성후 학습"
   ]
  },
  {
   "cell_type": "code",
   "execution_count": 20,
   "metadata": {
    "ExecuteTime": {
     "end_time": "2020-09-01T06:16:08.989342Z",
     "start_time": "2020-09-01T06:16:08.769218Z"
    }
   },
   "outputs": [
    {
     "name": "stdout",
     "output_type": "stream",
     "text": [
      "LinearRegression 로그 변환된 RMSE: 0.064\n",
      "Ridge 로그 변환된 RMSE: 0.064\n",
      "Lasso 로그 변환된 RMSE: 0.065\n"
     ]
    },
    {
     "data": {
      "text/plain": [
       "[0.06437681642070352, 0.06433431906649223, 0.06510973989363869]"
      ]
     },
     "execution_count": 20,
     "metadata": {},
     "output_type": "execute_result"
    }
   ],
   "source": [
    "from sklearn.linear_model import LinearRegression, Ridge, Lasso\n",
    "from sklearn.model_selection import train_test_split\n",
    "from sklearn.metrics import mean_squared_error\n",
    "# 시청률 평균 예측 모델 개발 \n",
    "\n",
    "y_target = 실적_전처리_원핫['시청률평균']\n",
    "X_features = 실적_전처리_원핫.drop('시청률평균',axis=1, inplace=False)\n",
    "\n",
    "X_train, X_test, y_train, y_test = train_test_split(X_features, y_target, test_size=0.2, random_state=156)\n",
    "\n",
    "# LinearRegression, Ridge, Lasso 학습, 예측, 평가\n",
    "lr_reg = LinearRegression()\n",
    "lr_reg.fit(X_train, y_train)\n",
    "\n",
    "ridge_reg = Ridge()\n",
    "ridge_reg.fit(X_train, y_train)\n",
    "\n",
    "lasso_reg = Lasso()\n",
    "lasso_reg.fit(X_train, y_train)\n",
    "\n",
    "models = [lr_reg, ridge_reg, lasso_reg]\n",
    "get_rmses(models)\n"
   ]
  },
  {
   "cell_type": "markdown",
   "metadata": {},
   "source": [
    "### 교차 검증으로 각 모델의  RMSE 출력"
   ]
  },
  {
   "cell_type": "code",
   "execution_count": 21,
   "metadata": {
    "ExecuteTime": {
     "end_time": "2020-09-01T06:16:17.576888Z",
     "start_time": "2020-09-01T06:16:15.801832Z"
    }
   },
   "outputs": [
    {
     "name": "stdout",
     "output_type": "stream",
     "text": [
      "\n",
      "LinearRegression CV RMSE 값 리스트: [5.40000000e-02 4.90000000e-02 6.40000000e-02 8.30000000e-02\n",
      " 2.10730537e+08]\n",
      "LinearRegression CV 평균 RMSE 값: 42146107.388\n",
      "\n",
      "Ridge CV RMSE 값 리스트: [0.054 0.049 0.064 0.083 0.08 ]\n",
      "Ridge CV 평균 RMSE 값: 0.066\n",
      "\n",
      "Lasso CV RMSE 값 리스트: [0.054 0.05  0.064 0.084 0.08 ]\n",
      "Lasso CV 평균 RMSE 값: 0.067\n"
     ]
    }
   ],
   "source": [
    "from sklearn.model_selection import cross_val_score\n",
    "\n",
    "def get_avg_rmse_cv(models):\n",
    "    for model in models:\n",
    "\n",
    "        rmse_list = np.sqrt(-cross_val_score(model, X_features, y_target,\n",
    "                                             scoring=\"neg_mean_squared_error\", cv = 5))\n",
    "        rmse_avg = np.mean(rmse_list)\n",
    "        print('\\n{0} CV RMSE 값 리스트: {1}'.format( model.__class__.__name__, np.round(rmse_list, 3)))\n",
    "        print('{0} CV 평균 RMSE 값: {1}'.format( model.__class__.__name__, np.round(rmse_avg, 3)))\n",
    "\n",
    "    \n",
    "models = [lr_reg, ridge_reg, lasso_reg]\n",
    "get_avg_rmse_cv(models)"
   ]
  },
  {
   "cell_type": "code",
   "execution_count": 22,
   "metadata": {
    "ExecuteTime": {
     "end_time": "2020-09-01T06:16:19.174618Z",
     "start_time": "2020-09-01T06:16:19.167637Z"
    }
   },
   "outputs": [
    {
     "data": {
      "text/plain": [
       "array([ 5.10094958e-05, -2.15159542e-03, -1.23043002e-02, -2.67226927e-03,\n",
       "        5.87524130e-03,  3.85055017e-03, -7.28464310e-04,  2.34545538e-03,\n",
       "       -8.64891079e-04,  1.31153339e-02,  1.84818934e-03, -8.31324983e-03,\n",
       "        4.73149449e-03, -2.83992166e-03, -3.68169107e-03, -6.40044958e-04,\n",
       "        8.85934366e-04,  1.54422883e-03,  4.59606924e-03, -4.53471262e-03,\n",
       "       -3.57193296e-03, -1.90566582e-02, -1.64488358e-02, -6.74061953e-03,\n",
       "       -2.26783761e-03,  7.34054294e-03,  6.26774877e-03, -4.68713537e-03,\n",
       "        1.87682859e-03,  1.42108335e-02,  7.25356775e-03,  7.61592435e-03,\n",
       "        7.76444612e-03,  1.02404450e-03, -1.21022929e-03, -1.25962081e-03,\n",
       "        1.69568731e-03, -1.63539515e-03,  1.76728430e-03, -1.15646337e-03,\n",
       "        5.25589581e-04, -2.06318504e-03,  2.91244510e-03,  2.75461474e-03,\n",
       "        5.20832320e-04, -3.49383333e-03])"
      ]
     },
     "execution_count": 22,
     "metadata": {},
     "output_type": "execute_result"
    }
   ],
   "source": [
    "# rmse  값이 가장 작은 Ridge 회귀 모델을 최종 모델로 선정\n",
    "# ridge_reg의 계수 출력\n",
    "ridge_reg.coef_"
   ]
  }
 ],
 "metadata": {
  "kernelspec": {
   "display_name": "Python 3",
   "language": "python",
   "name": "python3"
  },
  "language_info": {
   "codemirror_mode": {
    "name": "ipython",
    "version": 3
   },
   "file_extension": ".py",
   "mimetype": "text/x-python",
   "name": "python",
   "nbconvert_exporter": "python",
   "pygments_lexer": "ipython3",
   "version": "3.7.6"
  },
  "toc": {
   "base_numbering": 1,
   "nav_menu": {},
   "number_sections": true,
   "sideBar": true,
   "skip_h1_title": false,
   "title_cell": "Table of Contents",
   "title_sidebar": "Contents",
   "toc_cell": false,
   "toc_position": {},
   "toc_section_display": true,
   "toc_window_display": false
  }
 },
 "nbformat": 4,
 "nbformat_minor": 2
}
