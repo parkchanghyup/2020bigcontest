  {
   "cell_type": "markdown",
   "metadata": {},
   "source": [
    "# 시청률 예측 회귀 모델 개발 \n",
    "---"
   ]
  },
  {
   "cell_type": "code",
   "execution_count": 19,
   "metadata": {
    "ExecuteTime": {
     "end_time": "2020-09-01T06:16:06.951285Z",
     "start_time": "2020-09-01T06:16:06.941298Z"
    }
   },
   "outputs": [],
   "source": [
    "import numpy as np\n",
    "# 회귀 모델 rmse 리던 \n",
    "def get_rmse(model):\n",
    "    pred = model.predict(X_test)\n",
    "    mse = mean_squared_error(y_test , pred)\n",
    "    rmse = np.sqrt(mse)\n",
    "    print('{0} 로그 변환된 RMSE: {1}'.format(model.__class__.__name__,np.round(rmse, 3)))\n",
    "    return rmse\n",
    "\n",
    "def get_rmses(models):\n",
    "    rmses = [ ]\n",
    "    for model in models:\n",
    "        rmse = get_rmse(model)\n",
    "        rmses.append(rmse)\n",
    "    return rmses"
   ]
  },
  {
   "cell_type": "markdown",
   "metadata": {},
   "source": [
    "### sklearn을 이용하여 회귀 모델 생성후 학습"
   ]
  },
  {
   "cell_type": "code",
   "execution_count": 20,
   "metadata": {
    "ExecuteTime": {
     "end_time": "2020-09-01T06:16:08.989342Z",
     "start_time": "2020-09-01T06:16:08.769218Z"
    }
   },
   "outputs": [
    {
     "name": "stdout",
     "output_type": "stream",
     "text": [
      "LinearRegression 로그 변환된 RMSE: 0.064\n",
      "Ridge 로그 변환된 RMSE: 0.064\n",
      "Lasso 로그 변환된 RMSE: 0.065\n"
     ]
    },
    {
     "data": {
      "text/plain": [
       "[0.06437681642070352, 0.06433431906649223, 0.06510973989363869]"
      ]
     },
     "execution_count": 20,
     "metadata": {},
     "output_type": "execute_result"
    }
   ],
   "source": [
    "from sklearn.linear_model import LinearRegression, Ridge, Lasso\n",
    "from sklearn.model_selection import train_test_split\n",
    "from sklearn.metrics import mean_squared_error\n",
    "# 시청률 평균 예측 모델 개발 \n",
    "\n",
    "y_target = 실적_전처리_원핫['시청률평균']\n",
    "X_features = 실적_전처리_원핫.drop('시청률평균',axis=1, inplace=False)\n",
    "\n",
    "X_train, X_test, y_train, y_test = train_test_split(X_features, y_target, test_size=0.2, random_state=156)\n",
    "\n",
    "# LinearRegression, Ridge, Lasso 학습, 예측, 평가\n",
    "lr_reg = LinearRegression()\n",
    "lr_reg.fit(X_train, y_train)\n",
    "\n",
    "ridge_reg = Ridge()\n",
    "ridge_reg.fit(X_train, y_train)\n",
    "\n",
    "lasso_reg = Lasso()\n",
    "lasso_reg.fit(X_train, y_train)\n",
    "\n",
    "models = [lr_reg, ridge_reg, lasso_reg]\n",
    "get_rmses(models)\n"
   ]
  },
  {
   "cell_type": "markdown",
   "metadata": {},
   "source": [
    "### 교차 검증으로 각 모델의  RMSE 출력"
   ]
  },
  {
   "cell_type": "code",
   "execution_count": 21,
   "metadata": {
    "ExecuteTime": {
     "end_time": "2020-09-01T06:16:17.576888Z",
     "start_time": "2020-09-01T06:16:15.801832Z"
    }
   },
   "outputs": [
    {
     "name": "stdout",
     "output_type": "stream",
     "text": [
      "\n",
      "LinearRegression CV RMSE 값 리스트: [5.40000000e-02 4.90000000e-02 6.40000000e-02 8.30000000e-02\n",
      " 2.10730537e+08]\n",
      "LinearRegression CV 평균 RMSE 값: 42146107.388\n",
      "\n",
      "Ridge CV RMSE 값 리스트: [0.054 0.049 0.064 0.083 0.08 ]\n",
      "Ridge CV 평균 RMSE 값: 0.066\n",
      "\n",
      "Lasso CV RMSE 값 리스트: [0.054 0.05  0.064 0.084 0.08 ]\n",
      "Lasso CV 평균 RMSE 값: 0.067\n"
     ]
    }
   ],
   "source": [
    "from sklearn.model_selection import cross_val_score\n",
    "\n",
    "def get_avg_rmse_cv(models):\n",
    "    for model in models:\n",
    "\n",
    "        rmse_list = np.sqrt(-cross_val_score(model, X_features, y_target,\n",
    "                                             scoring=\"neg_mean_squared_error\", cv = 5))\n",
    "        rmse_avg = np.mean(rmse_list)\n",
    "        print('\\n{0} CV RMSE 값 리스트: {1}'.format( model.__class__.__name__, np.round(rmse_list, 3)))\n",
    "        print('{0} CV 평균 RMSE 값: {1}'.format( model.__class__.__name__, np.round(rmse_avg, 3)))\n",
    "\n",
    "    \n",
    "models = [lr_reg, ridge_reg, lasso_reg]\n",
    "get_avg_rmse_cv(models)"
   ]
  },
  {
   "cell_type": "code",
   "execution_count": 22,
   "metadata": {
    "ExecuteTime": {
     "end_time": "2020-09-01T06:16:19.174618Z",
     "start_time": "2020-09-01T06:16:19.167637Z"
    }
   },
   "outputs": [
    {
     "data": {
      "text/plain": [
       "array([ 5.10094958e-05, -2.15159542e-03, -1.23043002e-02, -2.67226927e-03,\n",
       "        5.87524130e-03,  3.85055017e-03, -7.28464310e-04,  2.34545538e-03,\n",
       "       -8.64891079e-04,  1.31153339e-02,  1.84818934e-03, -8.31324983e-03,\n",
       "        4.73149449e-03, -2.83992166e-03, -3.68169107e-03, -6.40044958e-04,\n",
       "        8.85934366e-04,  1.54422883e-03,  4.59606924e-03, -4.53471262e-03,\n",
       "       -3.57193296e-03, -1.90566582e-02, -1.64488358e-02, -6.74061953e-03,\n",
       "       -2.26783761e-03,  7.34054294e-03,  6.26774877e-03, -4.68713537e-03,\n",
       "        1.87682859e-03,  1.42108335e-02,  7.25356775e-03,  7.61592435e-03,\n",
       "        7.76444612e-03,  1.02404450e-03, -1.21022929e-03, -1.25962081e-03,\n",
       "        1.69568731e-03, -1.63539515e-03,  1.76728430e-03, -1.15646337e-03,\n",
       "        5.25589581e-04, -2.06318504e-03,  2.91244510e-03,  2.75461474e-03,\n",
       "        5.20832320e-04, -3.49383333e-03])"
      ]
     },
     "execution_count": 22,
     "metadata": {},
     "output_type": "execute_result"
    }
   ],
   "source": [
    "# rmse  값이 가장 작은 Ridge 회귀 모델을 최종 모델로 선정\n",
    "# ridge_reg의 계수 출력\n",
    "ridge_reg.coef_"
   ]
  },
  {
   "cell_type": "markdown",
   "metadata": {
    "ExecuteTime": {
     "end_time": "2020-09-01T06:38:28.114231Z",
     "start_time": "2020-09-01T06:38:07.737529Z"
    }
   },